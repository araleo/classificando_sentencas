{
 "cells": [
  {
   "cell_type": "markdown",
   "metadata": {},
   "source": [
    "# É possível utilizar algoritmos de aprenizado de máquina para analisar sentenças judiciais criminais e determinar se são condenatórias ou absolutórias?"
   ]
  },
  {
   "cell_type": "markdown",
   "metadata": {},
   "source": [
    "Foram obtidas, da página do TJMG (https://www5.tjmg.jus.br/jurisprudencia/sentenca.do), mais de 20 mil sentenças criminais, das seguintes varas, todas da Comarca de Belo Horizonte:"
   ]
  },
  {
   "cell_type": "markdown",
   "metadata": {},
   "source": [
    "* 3ª Vara Criminal: 793\n",
    "* 4ª Vara Criminal: 3.451\n",
    "* 5ª Vara Criminal: 962\n",
    "* 7ª Vara Criminal: 1.653\n",
    "* 8ª Vara Criminal: 2.222\n",
    "* 9ª Vara Criminal: 1.570\n",
    "* 10ª Vara Criminal: 1.945\n",
    "\n",
    "Total nas Varas Criminais: 12.596"
   ]
  },
  {
   "cell_type": "markdown",
   "metadata": {},
   "source": [
    "* 1ª Vara de Tóxicos: 2.744\n",
    "* 2ª Vara de Tóxicos: 3.339\n",
    "* 3ª Vara de Tóxicos: 3.625\n",
    "\n",
    "Total nas Varas de Tóxicos: 9.708"
   ]
  },
  {
   "cell_type": "markdown",
   "metadata": {},
   "source": [
    "Total agrupado: 22.304"
   ]
  },
  {
   "cell_type": "markdown",
   "metadata": {},
   "source": [
    "Todas as sentenças foram publicadas entre 2014 e 2020.\n",
    "\n",
    "As sentenças foram inicialmente divididas de acordo com seus juízos de origem e separadas em pastas individuais para cada vara.\n",
    "\n",
    "As sentenças não estavam identificadas ou ordenadas de nenhuma outra forma."
   ]
  },
  {
   "cell_type": "markdown",
   "metadata": {},
   "source": [
    "**inserir link para o banco com todas as sentenças sem classificar**"
   ]
  },
  {
   "cell_type": "markdown",
   "metadata": {},
   "source": [
    "# 1ª etapa - Primeira classificação humana"
   ]
  },
  {
   "cell_type": "markdown",
   "metadata": {},
   "source": [
    "Para iniciar a análise do material obtido, foi realizada uma classificação humana por amostragem."
   ]
  },
  {
   "cell_type": "markdown",
   "metadata": {},
   "source": [
    "Os objetivos dessa primeira classificação humana são:\n",
    "\n",
    "    a) analisar superficialmente o material baixado e verificar sua integridade e concordância com o esperado.\n",
    "    b) classificar (label) algumas sentenças para aplicação em algoritmos de aprendizado supervisionado."
   ]
  },
  {
   "cell_type": "markdown",
   "metadata": {},
   "source": [
    "O método utilizado foi:\n",
    "\n",
    "    abrir aleatoriamente sentenças de cada juízo comum e classificar cada sentença acessada até que fossem encontradas vinte sentenças absolutórias."
   ]
  },
  {
   "cell_type": "markdown",
   "metadata": {},
   "source": [
    "*Nesse momento inicial não foram classificadas nenhuma sentença das varas de tóxicos. Em uma etapa posterior nessa investigação, vamos utilizar o modelo que foi treinado apenas com sentenças de varas criminais para classificar as sentenças das varas de tóxicos, com o intuito de investigar também a diferença de linguagem entre essas varas e de estudar como melhor trabalhar computacionalmente com as diferenças de linguagem que surgirão, sobretudo quando da nacionalização do banco de dados.*"
   ]
  },
  {
   "cell_type": "markdown",
   "metadata": {},
   "source": [
    "Foram definidas as seguintes categorias de sentença:\n",
    "    \n",
    "    (A) absolutórias: sentenças que absolvem todos os denunciados de todos os crimes do processo.\n",
    "    (C) condenatórias: sentenças que condenam todos os denunciados por um ou mais dos crimes do processo.\n",
    "    (AC) absolutórias e condenatórias: sentenças que condenam um ou mais dos denunciados por um ou mais dos crimes do processo e absolvem um ou mais dos denunciados de todos os crimes do processo.\n",
    "    (N) neutras: sentenças de prescrição, embargos de declaração não infringentes, rejeição de queixa, ilegitimidade da parte, coisa julgada, extinção da punibilidade por cumprimento da suspensão condicional, fixação de pena e a absolvição imprópria."
   ]
  },
  {
   "cell_type": "markdown",
   "metadata": {},
   "source": [
    "Dessa classificação inicial foram obtidos os seguintes dados:"
   ]
  },
  {
   "cell_type": "markdown",
   "metadata": {},
   "source": [
    "    Quantidade de condenações em cada vara para se classificarem 20 absolvições:\n",
    "    \n",
    "     3ª Vara Criminal: 268\n",
    "     4ª Vara Criminal: 350\n",
    "     5ª Vara Criminal:  80\n",
    "     7ª Vara Criminal:  95\n",
    "     8ª Vara Criminal: 285\n",
    "     9ª Vara Criminal: 122\n",
    "    10ª Vara Criminal: 156"
   ]
  },
  {
   "cell_type": "markdown",
   "metadata": {},
   "source": [
    "    Condenações por absolvição:\n",
    "    \n",
    "     3ª Vara Criminal: 13.4\n",
    "     4ª Vara Criminal: 17.5\n",
    "     5ª Vara Criminal:  4.0\n",
    "     7ª Vara Criminal:  4.7\n",
    "     8ª Vara Criminal: 14.2\n",
    "     9ª Vara Criminal:  6.1\n",
    "    10ª Vara Criminal:  7.8"
   ]
  },
  {
   "cell_type": "code",
   "execution_count": 10,
   "metadata": {},
   "outputs": [
    {
     "data": {
      "image/png": "[encoded data removed]",
      "text/plain": [
       "<Figure size 432x288 with 1 Axes>"
      ]
     },
     "metadata": {
      "needs_background": "light"
     },
     "output_type": "display_data"
    }
   ],
   "source": [
    "import matplotlib.pyplot as plt\n",
    "varas = [\"3ª\", \"4ª\", \"5ª\", \"7ª\", \"8ª\", \"9ª\", \"10ª\"]\n",
    "condenacoes_20_absolvicoes = [268, 350, 80, 95, 285, 122, 156]\n",
    "condenacoes_por_absolvicao = [x/20 for x in condenacoes_20_absolvicoes]\n",
    "plt.bar(varas, condenacoes_por_absolvicao)\n",
    "plt.xlabel(\"Varas Criminais\")\n",
    "plt.ylabel(\"Condenações por absolvição\")\n",
    "plt.title(\"Condenações por absolvição em Belo Horizonte\")\n",
    "plt.show()"
   ]
  },
  {
   "cell_type": "markdown",
   "metadata": {},
   "source": [
    "É importante reafirmar que essa tendência foi verificada em uma amostragem muito pequena, e que esses dados iniciais servem mais para fortalecer a pergunta do que como resposta. Será que se analisando uma grande quantidade de sentenças, essas tendências de condenação e absolvição seriam mantidas ou alteradas?  "
   ]
  },
  {
   "cell_type": "markdown",
   "metadata": {},
   "source": [
    "A classificação manual de sentenças judiciais é uma tarefa cansativa, trabalhosa, que demanda tempo e, sobretudo, é extremamente tediosa. A construção de modelos computacionais que são capazes de classificar automaticamente sentenças a partir apenas de seu próprio texto é uma tarefa que permitirá responder perguntas como a feita acima."
   ]
  },
  {
   "cell_type": "markdown",
   "metadata": {},
   "source": [
    "# 2ª etapa - Primeira classificação computacional"
   ]
  },
  {
   "cell_type": "markdown",
   "metadata": {},
   "source": [
    "Após a classificação estritamente humana, foi possível construir um banco de sentenças classificadas, com certeza de suas categorias. Esse primeiro banco continha:\n",
    "\n",
    "* 140 sentenças absolutórias\n",
    "* 140 sentenças condenatórias\n",
    "* 100 sentenças neutras"
   ]
  },
  {
   "cell_type": "markdown",
   "metadata": {},
   "source": [
    "**inserir link para o banco inicial**"
   ]
  },
  {
   "cell_type": "markdown",
   "metadata": {},
   "source": [
    "A partir desse banco inicial, utilizou-se um algoritmo Naive Bayes para uma primeira classificação computacional de todo o material obtido. Em alto nível, o procedimento adotado para essa classificação foi o seguinte:"
   ]
  },
  {
   "cell_type": "markdown",
   "metadata": {},
   "source": [
    "* Ler, na memória do computador, todas as sentenças já categorizadas, separadas em suas categorias (absolutorias, condenatorias ou neutras).\n",
    "* Criar uma lista com as 3.000 palavras mais utilizadas em todas as sentenças categorizadas.\n",
    "* Criar, para cada sentença, uma relação de quais palavras da lista de 3.000 mais populares estão e quais não estão em seu texto. \n",
    "* A partir dessas relações, o algoritmo cria relações matemáticas para determinar a qual categoria uma sentença pertence.\n",
    "* Quando uma sentença ainda não categorizada é passada pelo algoritmo, ele usa as mesmas relações matemáticas para concluir sua categoria."
   ]
  },
  {
   "cell_type": "markdown",
   "metadata": {},
   "source": [
    "Essa primeira classificação computacional produz muitos erros, de modo que seus resultados não podem ser aproveitados para uma análise. Inicialmente podemos atribuir a falta de precisão desse primeiro modelo a dois principais motivos:\n",
    "\n",
    "    1) Utilizar um único algoritmo Naive Bayes, embora confiável e eficiente, pode causar problemas de parcialidade.\n",
    "    2) A quantidade de sentenças iniciais que foram utilizadas para criar a lista com as 3.000 palavras mais populares é muito pequena, o que causa problemas de precisão e parcialidade."
   ]
  },
  {
   "cell_type": "markdown",
   "metadata": {},
   "source": [
    "Felizmente, podemos resolver os dois problemas."
   ]
  },
  {
   "cell_type": "markdown",
   "metadata": {},
   "source": [
    "# 3ª etapa - Segunda classificação humana"
   ]
  },
  {
   "cell_type": "markdown",
   "metadata": {},
   "source": [
    "Utilizando a primeira classificação computacional foi possível dividir automaticamente, ainda que de forma precária, o banco inicial contendo todas as sentenças nas três categorias estudadas. Embora muitos erros tenham ocorrido (estima-se uma média de 50% de erro), essa divisão precária facilitou muito o processo de classificação humana de sentenças absolutórias. Antes, em algumas varas, era preciso classificar quinze sentenças condenatórias para cada sentença absolutória. Agora, em torno de duas."
   ]
  },
  {
   "cell_type": "markdown",
   "metadata": {},
   "source": [
    "De posse das sentenças classificadas pelo primeiro modelo computacional, foi extendido o banco de sentenças humanamente classificadas, que passou a possuir:"
   ]
  },
  {
   "cell_type": "markdown",
   "metadata": {},
   "source": [
    "* 314 absolutórias\n",
    "* 305 condenatórias\n",
    "* 200 neutras"
   ]
  },
  {
   "cell_type": "markdown",
   "metadata": {},
   "source": [
    "**inserir link para o banco extendido**"
   ]
  },
  {
   "cell_type": "markdown",
   "metadata": {},
   "source": [
    "# 4ª etapa - Segunda classificação computacional"
   ]
  },
  {
   "cell_type": "markdown",
   "metadata": {},
   "source": [
    "Com um banco de sentenças já classificadas mais de duas vezes maior que o inicial, a esperança era de que uma nova abordagem computacional se mostrasse muito mais efetiva. Mas, a expansão desse banco soluciona apenas um dos problemas apontados acima.\n",
    "\n",
    "Para tratar também da confiabilidade do algoritmo utlizado, nessa nova abordagem vamos passar a utilizar seis algoritmos diferentes, de diferentes categorias: Naive Bayes, SGD e SVC. \n",
    "\n",
    "Seguindo os mesmos passos do modelo proposto acima, vamos agora alimentar os seis algoritmos diferentes com as mesmas sentenças classificadas, de modo que cada algoritmo produzirá, por suas próprias regras, relações matemáticas diferentes entre a lista de palavras mais populares e cada sentença.\n",
    "\n",
    "Assim, vamos considerar apenas as classificações que forem unânimes entre os seis algoritmos, descartando qualquer classificação em que existir conflito."
   ]
  },
  {
   "cell_type": "markdown",
   "metadata": {},
   "source": [
    "Com essas mudanças, executamos novamente a classificação do banco inicial de sentenças não classificadas, obtendo dessa vez resultados melhores."
   ]
  },
  {
   "cell_type": "markdown",
   "metadata": {},
   "source": [
    "Realizando uma análise humana do resultado, foram analisadas setecentas sentenças e encontrados 11 erros, o que resulta em uma **margem de erro aproximada de 1,5%**."
   ]
  },
  {
   "cell_type": "markdown",
   "metadata": {},
   "source": [
    "Essa nova classificação já nos permite revisitar a taxa de condenações para cada absolvição entre as varas criminais estudadas e verificar se a tendência inicialmente observada se manteve ou se alterou. Estes foram os dados obtidos pelo classificador:"
   ]
  },
  {
   "cell_type": "markdown",
   "metadata": {},
   "source": [
    "Quantidade de decisões não classificadas em cada vara (devido a falta de consenso entre os classificadores):\n",
    "     \n",
    "     3ª Vara Criminal: 13\n",
    "     4ª Vara Criminal: 49\n",
    "     5ª Vara Criminal: 41\n",
    "     7ª Vara Criminal: 26\n",
    "     8ª Vara Criminal: 83\n",
    "     9ª Vara Criminal: 43\n",
    "    10ª Vara Criminal: 46"
   ]
  },
  {
   "cell_type": "markdown",
   "metadata": {},
   "source": [
    "     Vara Criminal x Condenações x Absolvições\n",
    "         3ª               727           53\n",
    "         4ª             2.466          232\n",
    "         5ª               785          112\n",
    "         7ª             1.368          259 \n",
    "         8ª             2.026          112 \n",
    "         9ª             1.291          212\n",
    "        10ª             1.404          257     "
   ]
  },
  {
   "cell_type": "code",
   "execution_count": 2,
   "metadata": {},
   "outputs": [
    {
     "data": {
      "image/png": "[encoded data removed]",
      "text/plain": [
       "<Figure size 432x288 with 1 Axes>"
      ]
     },
     "metadata": {
      "needs_background": "light"
     },
     "output_type": "display_data"
    }
   ],
   "source": [
    "import matplotlib.pyplot as plt\n",
    "varas = [\"3ª\", \"4ª\", \"5ª\", \"7ª\", \"8ª\", \"9ª\", \"10ª\"]\n",
    "condenacoes = [727, 2466, 785, 1368, 2026, 1291, 1404]\n",
    "absolvicoes = [53, 232, 112, 259, 112, 212, 257]\n",
    "condenacoes_por_absolvicao = [x / y for x, y in zip(condenacoes, absolvicoes)]\n",
    "plt.bar(varas, condenacoes_por_absolvicao)\n",
    "plt.xlabel(\"Varas Criminais\")\n",
    "plt.ylabel(\"Condenações por absolvição\")\n",
    "plt.title(\"Condenações por absolvição em Belo Horizonte\")\n",
    "plt.show()"
   ]
  },
  {
   "cell_type": "code",
   "execution_count": null,
   "metadata": {},
   "outputs": [],
   "source": []
  }
 ],
 "metadata": {
  "kernelspec": {
   "display_name": "Python 3",
   "language": "python",
   "name": "python3"
  },
  "language_info": {
   "codemirror_mode": {
    "name": "ipython",
    "version": 3
   },
   "file_extension": ".py",
   "mimetype": "text/x-python",
   "name": "python",
   "nbconvert_exporter": "python",
   "pygments_lexer": "ipython3",
   "version": "3.6.9"
  }
 },
 "nbformat": 4,
 "nbformat_minor": 4
}
